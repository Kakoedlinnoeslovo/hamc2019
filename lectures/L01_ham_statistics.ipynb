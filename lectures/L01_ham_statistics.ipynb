{
 "cells": [
  {
   "cell_type": "markdown",
   "metadata": {
    "slideshow": {
     "slide_type": "slide"
    }
   },
   "source": [
    "# Lecture 1. How hypotheses are treated in statistical inference?\n"
   ]
  },
  {
   "cell_type": "markdown",
   "metadata": {
    "slideshow": {
     "slide_type": "slide"
    }
   },
   "source": [
    "## What are possible approaches to hypotheses representation and testing?\n",
    "\n",
    "***\n",
    "\n",
    "<div class=\"alert alert-block alert-info\">\n",
    "A statistical hypothesis, sometimes called confirmatory data analysis, is a hypothesis that is testable on the basis of observing a process that is modeled via a set of random variables\n",
    "\n",
    "***"
   ]
  },
  {
   "cell_type": "markdown",
   "metadata": {
    "slideshow": {
     "slide_type": "slide"
    }
   },
   "source": [
    "## Statistical hypothesis != scientific hypothesis\n",
    "\n",
    "***\n",
    "\n",
    "<div class=\"alert alert-block alert-info\">\n",
    "\n",
    "Scientific hypotheses seek to provide an explanation for natural phenomena\n",
    "\n",
    "Statistical hypotheses are generally used to establish the existence of relationships (or lack thereof) between data sets. \n",
    "\n",
    "\n",
    "***"
   ]
  },
  {
   "cell_type": "markdown",
   "metadata": {
    "slideshow": {
     "slide_type": "fragment"
    }
   },
   "source": [
    "Ex.: Using a medical treatment as an example, a statistical hypothesis might attempt to illustrate, with statistical significance, whether a drug performs better than a placebo. \n",
    "\n",
    "A scientific hypothesis would then seek to explain the results, regardless of the results of the statistical hypothesis test (they perform the same or they do not). \n"
   ]
  },
  {
   "cell_type": "markdown",
   "metadata": {
    "slideshow": {
     "slide_type": "slide"
    }
   },
   "source": [
    "## Outline\n",
    "1. Probability and sampling distributions\n",
    " 1. Two ways to work with probability in Python\n",
    " 2. Finite\n",
    " 3. Discrete\n",
    " 4. Continuous\n",
    " 5. Histogram, kernel density distribution\n",
    " 6. Random data generation with python and Spark MLLib\n",
    "\n",
    "3. Central Limit Theorem and its pitfalls\n",
    "4. Confidence intervals\n",
    "5. Bootstraping"
   ]
  },
  {
   "cell_type": "markdown",
   "metadata": {
    "slideshow": {
     "slide_type": "slide"
    }
   },
   "source": [
    "<center><img src=\"../pictures/correct_technique.png\"></center>"
   ]
  },
  {
   "cell_type": "markdown",
   "metadata": {
    "slideshow": {
     "slide_type": "slide"
    }
   },
   "source": [
    "## Types of statistical inference\n",
    "***\n",
    "\n",
    "There are two types of statistical inferences:\n",
    "\n",
    "1. Estimation\n",
    "  * Use information from the sample to estimate (or predict) the parameter of interest.\n",
    "2. Statistical Test\n",
    "  * Use information from the sample to determine whether a certain statement about the parameter of interest is true."
   ]
  },
  {
   "cell_type": "markdown",
   "metadata": {
    "slideshow": {
     "slide_type": "slide"
    }
   },
   "source": [
    "## Properties of good estimators\n",
    "***\n",
    "1. **Bias.** The center of the sampling distribution for the estimate is the same as that of the population.  When this property is true, the estimate is said to be unbiased.  The most often-used measure of the center is the mean.\n",
    "2. **Variance.** Smallest standard error when compared to other estimators.  For example, in the normal distribution the mean and median are essentially the same.  However, the standard error of the median is about 1.25 times that of the standard error of the mean. So,  mean is a better estimator than the median when the data is normal (or approximately normal)."
   ]
  },
  {
   "cell_type": "markdown",
   "metadata": {
    "slideshow": {
     "slide_type": "slide"
    }
   },
   "source": [
    "## Bias vs. Variance\n",
    "<center><img src=\"../pictures/visual_bias_variance.png\" width=\"800\"></center>"
   ]
  },
  {
   "cell_type": "markdown",
   "metadata": {
    "slideshow": {
     "slide_type": "slide"
    }
   },
   "source": [
    "# Probability and sampling distributions\n",
    "## Two ways to work with distributions in Python\n",
    "***\n",
    "- [Scipy](https://www.scipy.org/)\n",
    "\n",
    ">This module contains a large number of probability distributions as well as a growing library of statistical functions.\n",
    "\n",
    "\n",
    "- [SymPy](http://www.sympy.org/)\n",
    "\n",
    "> SymPy is a Python library for symbolic mathematics. It aims to become a full-featured computer algebra system (CAS) while keeping the code as simple as possible in order to be comprehensible and easily extensible. SymPy is written entirely in Python.\n"
   ]
  },
  {
   "cell_type": "markdown",
   "metadata": {
    "slideshow": {
     "slide_type": "slide"
    }
   },
   "source": [
    "## Remarks\n",
    "***\n",
    "1. pdf\n",
    " * Probability density function\n",
    "2. cdf\n",
    " * Cumulative distribution function\n",
    "3. skewness\n",
    " * Skewness γ_1 represents the third standardized moment. Skewness is the measure of how symmetric the data is. Negative values show that the data distribution mass is to the left, otherwise to the right (if comparing to normal distribution).\n",
    "4. kurtosis\n",
    " * Kurtosis measure is the fourth standardized. Higher kurtosis corresponds to more heavy tails of the distribution.\n"
   ]
  },
  {
   "cell_type": "markdown",
   "metadata": {
    "slideshow": {
     "slide_type": "slide"
    }
   },
   "source": [
    "# Working with stats in SymPy\n",
    "***\n",
    "## Finite Variables Types\n",
    "\n"
   ]
  },
  {
   "cell_type": "code",
   "execution_count": 50,
   "metadata": {
    "slideshow": {
     "slide_type": "fragment"
    }
   },
   "outputs": [
    {
     "data": {
      "text/plain": [
       "{1: 1/6, 2: 1/6, 3: 1/6, 4: 1/6, 5: 1/6, 6: 1/6}"
      ]
     },
     "execution_count": 50,
     "metadata": {},
     "output_type": "execute_result"
    }
   ],
   "source": [
    "from sympy.stats import Die, density, E, variance, std, cdf,P,Poisson, skewness\n",
    "from sympy import symbols, pprint, Eq, Symbol, simplify\n",
    "import numpy as np\n",
    "import matplotlib.pyplot as plt\n",
    "\n",
    "X = Die('X', 6)\n",
    "density(X).dict"
   ]
  },
  {
   "cell_type": "code",
   "execution_count": 51,
   "metadata": {
    "slideshow": {
     "slide_type": "fragment"
    }
   },
   "outputs": [
    {
     "data": {
      "text/plain": [
       "{1: 1/6, 2: 1/3, 3: 1/2, 4: 2/3, 5: 5/6, 6: 1}"
      ]
     },
     "execution_count": 51,
     "metadata": {},
     "output_type": "execute_result"
    }
   ],
   "source": [
    "cdf(X)"
   ]
  },
  {
   "cell_type": "code",
   "execution_count": 52,
   "metadata": {
    "slideshow": {
     "slide_type": "slide"
    }
   },
   "outputs": [
    {
     "name": "stdout",
     "output_type": "stream",
     "text": [
      "⎡     √105⎤\n",
      "⎢7/2, ────⎥\n",
      "⎣      6  ⎦\n"
     ]
    }
   ],
   "source": [
    "pprint([E(X), std(X)])"
   ]
  },
  {
   "cell_type": "code",
   "execution_count": 53,
   "metadata": {
    "slideshow": {
     "slide_type": "fragment"
    }
   },
   "outputs": [
    {
     "name": "stdout",
     "output_type": "stream",
     "text": [
      "1/2\n"
     ]
    }
   ],
   "source": [
    "pprint(P(X > 3))"
   ]
  },
  {
   "cell_type": "code",
   "execution_count": 54,
   "metadata": {
    "slideshow": {
     "slide_type": "fragment"
    }
   },
   "outputs": [
    {
     "name": "stdout",
     "output_type": "stream",
     "text": [
      "1/4\n"
     ]
    }
   ],
   "source": [
    "pprint(P(Eq(X,5), X > 2)) "
   ]
  },
  {
   "cell_type": "markdown",
   "metadata": {
    "slideshow": {
     "slide_type": "slide"
    }
   },
   "source": [
    "## Discrete Types\n",
    "***\n",
    "Poisson Distribution"
   ]
  },
  {
   "cell_type": "markdown",
   "metadata": {
    "slideshow": {
     "slide_type": "fragment"
    }
   },
   "source": [
    "Wiki: In probability theory and statistics, the Poisson distribution ... is a discrete probability distribution that expresses the probability of a given number of events occurring in a fixed interval of time and/or space if these events occur with a known average rate and independently of the time since the last event.\n",
    "\n",
    "<center><img src=\"../pictures/325px-Poisson_pmf.svg.png\"></center>"
   ]
  },
  {
   "cell_type": "markdown",
   "metadata": {
    "slideshow": {
     "slide_type": "slide"
    }
   },
   "source": [
    "## Examples\n",
    "1. Arrival of buses at station\n",
    "2. Floods in the world\n",
    "3. Spam letters a day"
   ]
  },
  {
   "cell_type": "code",
   "execution_count": 55,
   "metadata": {
    "slideshow": {
     "slide_type": "slide"
    }
   },
   "outputs": [
    {
     "name": "stdout",
     "output_type": "stream",
     "text": [
      " z  -λ\n",
      "λ ⋅ℯ  \n",
      "──────\n",
      "  z!  \n"
     ]
    }
   ],
   "source": [
    "rate = Symbol(\"lambda\", positive=True)\n",
    "z = Symbol(\"z\")\n",
    "Pois = Poisson(\"x\", rate)\n",
    "pprint(density(Pois)(z))\n"
   ]
  },
  {
   "cell_type": "code",
   "execution_count": 56,
   "metadata": {
    "slideshow": {
     "slide_type": "slide"
    }
   },
   "outputs": [
    {
     "name": "stdout",
     "output_type": "stream",
     "text": [
      "⎧   -z - 1  z + 1                                   \n",
      "⎪  λ      ⋅λ     ⋅(z + 1)⋅γ(z + 1, λ)               \n",
      "⎪- ────────────────────────────────── + 1  for z ≥ 0\n",
      "⎨               (z + 1)!                            \n",
      "⎪                                                   \n",
      "⎪                   0                      otherwise\n",
      "⎩                                                   \n"
     ]
    }
   ],
   "source": [
    "pprint(cdf(Pois)(z))"
   ]
  },
  {
   "cell_type": "code",
   "execution_count": 57,
   "metadata": {
    "slideshow": {
     "slide_type": "fragment"
    }
   },
   "outputs": [
    {
     "name": "stdout",
     "output_type": "stream",
     "text": [
      "   2            \n",
      "- λ  + λ⋅(λ + 1)\n",
      "1 \n",
      "──\n",
      "√λ\n"
     ]
    }
   ],
   "source": [
    "pprint(variance(Pois))\n",
    "pprint(simplify(skewness(Pois)))\n"
   ]
  },
  {
   "cell_type": "markdown",
   "metadata": {
    "slideshow": {
     "slide_type": "slide"
    }
   },
   "source": [
    "## Plotting PDF"
   ]
  },
  {
   "cell_type": "code",
   "execution_count": 58,
   "metadata": {
    "slideshow": {
     "slide_type": "fragment"
    }
   },
   "outputs": [
    {
     "data": {
      "text/plain": [
       "[<matplotlib.lines.Line2D at 0x7f7ca0fc74a8>]"
      ]
     },
     "execution_count": 58,
     "metadata": {},
     "output_type": "execute_result"
    },
    {
     "data": {
      "image/png": "[encoded data removed]",
      "text/plain": [
       "<Figure size 432x288 with 1 Axes>"
      ]
     },
     "metadata": {
      "needs_background": "light"
     },
     "output_type": "display_data"
    }
   ],
   "source": [
    "u = np.linspace(0, 25)\n",
    "X = Poisson('X', 4)\n",
    "D = density(X)\n",
    "v1 = [D(i).evalf() for i in u]\n",
    "plt.plot(u, v1)\n"
   ]
  },
  {
   "cell_type": "markdown",
   "metadata": {
    "slideshow": {
     "slide_type": "slide"
    }
   },
   "source": [
    "## Plotting CDF\n",
    "***"
   ]
  },
  {
   "cell_type": "code",
   "execution_count": 59,
   "metadata": {
    "slideshow": {
     "slide_type": "fragment"
    }
   },
   "outputs": [
    {
     "data": {
      "text/plain": [
       "[<matplotlib.lines.Line2D at 0x7f7ca0eeb908>]"
      ]
     },
     "execution_count": 59,
     "metadata": {},
     "output_type": "execute_result"
    },
    {
     "data": {
      "image/png": "[encoded data removed]",
      "text/plain": [
       "<Figure size 432x288 with 1 Axes>"
      ]
     },
     "metadata": {
      "needs_background": "light"
     },
     "output_type": "display_data"
    }
   ],
   "source": [
    "u = np.linspace(-1, 10)\n",
    "X = Poisson('X', 4)\n",
    "D = cdf(X)\n",
    "v1 = [D(i).evalf() for i in u]\n",
    "plt.plot(u, v1)"
   ]
  },
  {
   "cell_type": "markdown",
   "metadata": {
    "slideshow": {
     "slide_type": "slide"
    }
   },
   "source": [
    "## Displaying Probability mass function"
   ]
  },
  {
   "cell_type": "code",
   "execution_count": 60,
   "metadata": {
    "slideshow": {
     "slide_type": "skip"
    }
   },
   "outputs": [],
   "source": [
    "from scipy.stats import poisson\n",
    "import matplotlib.pyplot as plt\n",
    "import numpy as np"
   ]
  },
  {
   "cell_type": "code",
   "execution_count": 61,
   "metadata": {
    "slideshow": {
     "slide_type": "fragment"
    }
   },
   "outputs": [
    {
     "data": {
      "image/png": "[encoded data removed]",
      "text/plain": [
       "<Figure size 432x288 with 1 Axes>"
      ]
     },
     "metadata": {
      "needs_background": "light"
     },
     "output_type": "display_data"
    }
   ],
   "source": [
    "fig, ax = plt.subplots(1, 1)\n",
    "\n",
    "mu = 4\n",
    "mean, var, skew, kurt = poisson.stats(mu, moments='mvsk')\n",
    "\n",
    "x = np.arange(poisson.ppf(0.01, mu),\n",
    "              poisson.ppf(0.99, mu))\n",
    "ax.plot(x, poisson.pmf(x, mu), 'bo', ms=8, label='poisson pmf')\n",
    "ax.vlines(x, 0, poisson.pmf(x, mu), colors='b', lw=5, alpha=0.5)\n",
    "plt.show()"
   ]
  },
  {
   "cell_type": "code",
   "execution_count": 62,
   "metadata": {
    "slideshow": {
     "slide_type": "skip"
    }
   },
   "outputs": [],
   "source": [
    "from scipy.stats import *\n",
    "import matplotlib.pyplot as plt\n",
    "import numpy as np"
   ]
  },
  {
   "cell_type": "markdown",
   "metadata": {
    "slideshow": {
     "slide_type": "slide"
    }
   },
   "source": [
    "# RVS histograms"
   ]
  },
  {
   "cell_type": "code",
   "execution_count": 63,
   "metadata": {
    "slideshow": {
     "slide_type": "fragment"
    }
   },
   "outputs": [
    {
     "name": "stderr",
     "output_type": "stream",
     "text": [
      "/home/dmitry/.pyenv/versions/anaconda3-5.3.0/lib/python3.7/site-packages/matplotlib/axes/_axes.py:6571: UserWarning: The 'normed' kwarg is deprecated, and has been replaced by the 'density' kwarg.\n",
      "  warnings.warn(\"The 'normed' kwarg is deprecated, and has been \"\n"
     ]
    },
    {
     "data": {
      "image/png": "[encoded data removed]",
      "text/plain": [
       "<Figure size 432x288 with 1 Axes>"
      ]
     },
     "metadata": {
      "needs_background": "light"
     },
     "output_type": "display_data"
    }
   ],
   "source": [
    "fig, ax = plt.subplots(1, 1)\n",
    "x = np.linspace(norm.ppf(0.01),\n",
    "    norm.ppf(0.99), 10000)\n",
    "ax.plot(x, norm.pdf(x),\n",
    "    'r-', lw=4, alpha=0.7, label='norm pdf')\n",
    "rv = norm()\n",
    "ax.plot(x, rv.pdf(x), 'k-', lw=2, label='frozen pdf')\n",
    "r = norm.rvs(size=1000)\n",
    "ax.hist(r, normed=True, histtype='stepfilled', alpha=0.2, bins=100)\n",
    "ax.legend(loc='best', frameon=False)\n",
    "plt.show()"
   ]
  },
  {
   "cell_type": "code",
   "execution_count": 64,
   "metadata": {
    "slideshow": {
     "slide_type": "slide"
    }
   },
   "outputs": [
    {
     "name": "stdout",
     "output_type": "stream",
     "text": [
      "0.0 1.0 0.0 0.0\n"
     ]
    }
   ],
   "source": [
    "mean, var, skew, kurt = norm.stats(moments='mvsk')\n",
    "print (mean, var, skew, kurt)"
   ]
  },
  {
   "cell_type": "markdown",
   "metadata": {
    "collapsed": true,
    "slideshow": {
     "slide_type": "slide"
    }
   },
   "source": [
    "## Kernel Density Estimation"
   ]
  },
  {
   "cell_type": "code",
   "execution_count": 65,
   "metadata": {
    "slideshow": {
     "slide_type": "skip"
    }
   },
   "outputs": [],
   "source": [
    "from scipy.stats.kde import gaussian_kde\n",
    "from scipy.stats import norm\n",
    "from numpy import linspace,hstack\n",
    "from pylab import plot,show,hist\n"
   ]
  },
  {
   "cell_type": "code",
   "execution_count": 66,
   "metadata": {
    "slideshow": {
     "slide_type": "fragment"
    }
   },
   "outputs": [
    {
     "name": "stderr",
     "output_type": "stream",
     "text": [
      "/home/dmitry/.pyenv/versions/anaconda3-5.3.0/lib/python3.7/site-packages/matplotlib/axes/_axes.py:6571: UserWarning: The 'normed' kwarg is deprecated, and has been replaced by the 'density' kwarg.\n",
      "  warnings.warn(\"The 'normed' kwarg is deprecated, and has been \"\n"
     ]
    },
    {
     "data": {
      "image/png": "[encoded data removed]",
      "text/plain": [
       "<Figure size 432x288 with 1 Axes>"
      ]
     },
     "metadata": {
      "needs_background": "light"
     },
     "output_type": "display_data"
    }
   ],
   "source": [
    "sampD1 = norm.rvs(loc=5.,scale=2,size=300)\n",
    "sampD2 = norm.rvs(loc=2.0,scale=0.5,size=300)\n",
    "samp = hstack([sampD1,sampD2])\n",
    "# obtaining the pdf (my_pdf is a function!)\n",
    "my_pdf = gaussian_kde(samp)\n",
    "\n",
    "# plotting the result\n",
    "x = linspace(-5,20,100)\n",
    "plot(x,my_pdf(x),'r', lw=4) # distribution function\n",
    "hist(samp,normed=1,alpha=.3) # histogram\n",
    "show()"
   ]
  },
  {
   "cell_type": "markdown",
   "metadata": {
    "slideshow": {
     "slide_type": "slide"
    }
   },
   "source": [
    "https://jakevdp.github.io/blog/2013/12/01/kernel-density-estimation/\n",
    "<img src=\"../pictures/kernel_dens.png\">"
   ]
  },
  {
   "cell_type": "markdown",
   "metadata": {
    "slideshow": {
     "slide_type": "slide"
    }
   },
   "source": [
    "# Probability and sampling distributions\n",
    "## Random data generation with python and Spark MLLib\n",
    "***\n",
    "Random data generation is useful for randomized algorithms, prototyping, and performance testing. spark.mllib supports generating random RDDs with i.i.d. values drawn from a given distribution: uniform, standard normal, or Poisson.\n",
    "\n",
    "Kernel density estimation also exists in Spark MLLib\n",
    "***\n",
    "\n",
    "https://spark.apache.org/docs/latest/mllib-statistics.html"
   ]
  },
  {
   "cell_type": "markdown",
   "metadata": {
    "slideshow": {
     "slide_type": "slide"
    }
   },
   "source": [
    "# Central Limit Theorem\n",
    "***\n",
    "\n",
    "<div class=\"alert alert-block alert-info\">\n",
    "Let $\\xi_1, \\xi_2, ... , \\xi_N$ be a set of $N$ independent random variates, which come from an arbitrary probability distribution $P(x_1, \\cdots,x_N)$ with with mean $\\mu$ and finite variance $\\sigma^2$. Then sample mean\n",
    " \n",
    "<center> $\\overline{\\xi} \\longrightarrow \\mathcal{N}\\left(\\mu, \\frac{\\sigma^2}{n}\\right)$ as $n \\rightarrow \\infty$ </center>\n",
    "\n",
    "or\n",
    "\n",
    "<center> $ Z = \\frac{\\overline{\\xi} - \\mu}{\\sigma / \\sqrt{n}} = \\frac{\\sum\\limits_{i=1}^{n}\\xi_i - n\\sigma}{\\sigma\\sqrt{n}} \\longrightarrow \n",
    "\\mathcal{N}\\left(0, 1\\right)$ as $n \\rightarrow \\infty$</center>\n",
    "</div>\n",
    "\n",
    "***\n",
    "Resources: \n",
    "- https://www.khanacademy.org/math/statistics-probability\n",
    "- https://onlinecourses.science.psu.edu/stat414"
   ]
  },
  {
   "cell_type": "markdown",
   "metadata": {
    "slideshow": {
     "slide_type": "slide"
    }
   },
   "source": [
    "# Playing with CLT\n",
    "***"
   ]
  },
  {
   "cell_type": "code",
   "execution_count": 67,
   "metadata": {
    "slideshow": {
     "slide_type": "fragment"
    }
   },
   "outputs": [],
   "source": [
    "%matplotlib inline\n",
    "from scipy.stats import betaprime, norm\n",
    "import matplotlib.pyplot as plt\n",
    "import numpy as np\n",
    "\n"
   ]
  },
  {
   "cell_type": "code",
   "execution_count": 68,
   "metadata": {
    "slideshow": {
     "slide_type": "fragment"
    }
   },
   "outputs": [
    {
     "name": "stdout",
     "output_type": "stream",
     "text": [
      "betaprime mu: 5.0\n",
      "betaprime sigma: 3.873\n"
     ]
    }
   ],
   "source": [
    "# выбрано непрерывное распределение betaprime со значениями a = 15, b = 4\n",
    "a, b = 15., 4.\n",
    "bp_rv = betaprime(a, b)\n",
    "\n",
    "# функция bp_mean возвращает массив, состоящий из средних значений 1000 выборок объема n \n",
    "bp_mean = lambda n: [bp_rv.rvs(size=n).mean() for i in range(1000)]\n",
    "\n",
    "# математическое ожидание и стандартное отклонение вычисляются следующим образом\n",
    "mu = a / (b-1)\n",
    "sigma = np.sqrt(a*(a+b-1)/(b-2))/(b-1)\n",
    "\n",
    "print(\"betaprime mu: \" +  str(round(mu,3)))\n",
    "print(\"betaprime sigma: \" + str(round(sigma,3)))\n"
   ]
  },
  {
   "cell_type": "code",
   "execution_count": 69,
   "metadata": {
    "slideshow": {
     "slide_type": "slide"
    }
   },
   "outputs": [
    {
     "name": "stderr",
     "output_type": "stream",
     "text": [
      "/home/dmitry/.pyenv/versions/anaconda3-5.3.0/lib/python3.7/site-packages/matplotlib/axes/_axes.py:6571: UserWarning: The 'normed' kwarg is deprecated, and has been replaced by the 'density' kwarg.\n",
      "  warnings.warn(\"The 'normed' kwarg is deprecated, and has been \"\n"
     ]
    },
    {
     "data": {
      "image/png": "[encoded data removed]",
      "text/plain": [
       "<Figure size 1080x720 with 6 Axes>"
      ]
     },
     "metadata": {
      "needs_background": "light"
     },
     "output_type": "display_data"
    }
   ],
   "source": [
    "# определяем ось значений x\n",
    "x_norm = lambda n: np.linspace(norm.ppf(0.01,loc=mu,scale=sigma/np.sqrt(n)), \n",
    "                               norm.ppf(0.99,loc=mu,scale=sigma/np.sqrt(n)), 100)\n",
    "\n",
    "# для каждого из n  строим кортеж, состоящий из массива средних значений, соответствующего ему \n",
    "# оси значений и нормального распределения (мат. ожидания у распределений совпадают, среднеквадратичные отклонения \n",
    "# отличаются в sqrt(n) раз) и самого значения n\n",
    "\n",
    "data = [(bp_mean(n), x_norm(n), \n",
    "         norm.pdf(x_norm(n), loc=mu,scale=sigma/np.sqrt(n)), n) for n in (5,10,50,100,200,500)]\n",
    "\n",
    "# всего будет 6 графиков (по числу значений n)\n",
    "fig, axs = plt.subplots(3,2, figsize=(15,10))\n",
    "axs = axs.ravel()\n",
    "\n",
    "for idx,ax in enumerate(axs):\n",
    "    ax.hist(data[idx][0], bins=20, normed=True, color='g')\n",
    "    ax.set_title('N = '+ str(data[idx][3]))\n",
    "    label = 'sigma: ' + str(round(sigma/np.sqrt(data[idx][3]),3)) + '\\nmu: ' + str(round(mu,3))\n",
    "    ax.plot(data[idx][1], data[idx][2],'r-', lw=5, label=label)\n",
    "    ax.legend(loc='best')\n",
    "\n",
    "# Выводы: 1) при возрастании n точность аппроксимации возрастает, 2) при малых n распределение смещено влево,\n",
    "# 3) математические ожидания совпадают,среднеквадратичные отклонения отличаются в sqrt(n) раз"
   ]
  },
  {
   "cell_type": "code",
   "execution_count": null,
   "metadata": {
    "slideshow": {
     "slide_type": "slide"
    }
   },
   "outputs": [],
   "source": []
  },
  {
   "cell_type": "markdown",
   "metadata": {
    "slideshow": {
     "slide_type": "slide"
    }
   },
   "source": [
    "# Limitations of CLT\n",
    "***\n",
    "\n",
    "The CLT approaches gaussian distribution with increasing sample size for a  statistic, but\n",
    "<br />\n",
    "<br />\n",
    "<center><div class=\"alert alert-block alert-warning\">\n",
    "NB! No rule of thumb for  $n$\n",
    "<br />\n",
    "Always need to check (algebraically, via simulation) how close to normality we are, $n=2$ can be enough , $n=1000$ can be not\n",
    "</div></center>\n",
    "\n",
    "\n",
    "***\n",
    "Resources:\n",
    "- https://www.quora.com/Why-is-the-central-limit-theorem-considered-such-a-foundational-concept-to-inferential-statistics\n",
    "- https://stats.stackexchange.com/questions/81074/how-useful-is-the-clt-in-applications\n",
    "- https://stats.stackexchange.com/questions/61798/example-of-distribution-where-large-sample-size-is-necessary-for-central-limit-t/61849#61849\n"
   ]
  },
  {
   "cell_type": "markdown",
   "metadata": {
    "slideshow": {
     "slide_type": "slide"
    }
   },
   "source": [
    "# Limitations of CLT\n",
    "## Examples\n",
    "\n",
    "time between events (lag between an ad and an increase in sales, or time between failures in reliability theory, or latency in IT).  What CLT says is that if you take enough samples of time between events, their means will follow a normal distribution (and believe me, they do!). This leads to a scary result of average times between events becoming negative with a nonzero probability.\n",
    "\n",
    "the sample third and fourth moments are averages and so the CLT should apply. The Jarque-Bera test relies on that (plus Slutsky, I guess, for the denominator, along with asymptotic independence), in order to obtain a chi-square distribution for the sum of squares of standardized values."
   ]
  },
  {
   "cell_type": "markdown",
   "metadata": {
    "slideshow": {
     "slide_type": "slide"
    }
   },
   "source": [
    "# Limitations of CLT\n",
    "***\n",
    "Suppose, we have $\\xi$ with a distribution like this:\n",
    "<img src=\"../pictures/xzits.png\">\n",
    "\n"
   ]
  },
  {
   "cell_type": "markdown",
   "metadata": {
    "collapsed": true,
    "slideshow": {
     "slide_type": "slide"
    }
   },
   "source": [
    "# Limitations of CLT\n",
    "***\n",
    "$\\overline{\\xi}$ for $n = 1000$ has a shape:\n",
    "\n",
    "<img src=\"../pictures/shape.png\">\n",
    "\n",
    "- near normal to treat for some cases (density for 2 sd of the mean)\n",
    "- not normal to assess probability of being more than 3 sd\n",
    "\n",
    "\n"
   ]
  },
  {
   "cell_type": "markdown",
   "metadata": {
    "slideshow": {
     "slide_type": "slide"
    }
   },
   "source": [
    "## Limitations of CLT\n",
    "Even when n is around 300 the distribution doe not seem to be normal!\n",
    "<img src=\"../pictures/L01_sk_kurt.png\">\n",
    "\n"
   ]
  },
  {
   "cell_type": "markdown",
   "metadata": {},
   "source": [
    "## TODO\n",
    "\n",
    "Using sympy or scipy library create continuous random variable with such pdf, that CLT does not hold for huge n (say, 1000) "
   ]
  },
  {
   "cell_type": "markdown",
   "metadata": {
    "slideshow": {
     "slide_type": "slide"
    }
   },
   "source": [
    "## Confidence intervals vs Prediction Intervals \n",
    "\n",
    "http://www.mit.edu/~6.s085/notes/lecture2.pdf\n",
    "\n",
    "https://plato.stanford.edu/entries/paradox-simpson/\n",
    "\n",
    "http://statisticsbyjim.com/hypothesis-testing/confidence-prediction-tolerance-intervals/\n"
   ]
  },
  {
   "cell_type": "markdown",
   "metadata": {
    "slideshow": {
     "slide_type": "slide"
    }
   },
   "source": [
    "# Interpretation of CI, PI\n",
    "\n",
    "<center><img src=\"../pictures/CI20.png\"></center>\n",
    "\n",
    "A prediction interval is a range that likely contains the value of the dependent variable for a single new observation given specific values of the independent variables. With this type of interval, we’re predicting ranges for individual observations rather than the mean value.\n"
   ]
  },
  {
   "cell_type": "markdown",
   "metadata": {
    "slideshow": {
     "slide_type": "slide"
    }
   },
   "source": [
    "## Confidence intervals based on bootstrap with Apache Spark\n",
    "http://www.kdnuggets.com/2016/01/hypothesis-testing-bootstrap-apache-spark.html"
   ]
  },
  {
   "cell_type": "markdown",
   "metadata": {
    "slideshow": {
     "slide_type": "slide"
    }
   },
   "source": [
    "# Questions?"
   ]
  },
  {
   "cell_type": "code",
   "execution_count": null,
   "metadata": {},
   "outputs": [],
   "source": []
  }
 ],
 "metadata": {
  "celltoolbar": "Slideshow",
  "kernelspec": {
   "display_name": "Python 3",
   "language": "python",
   "name": "python3"
  },
  "language_info": {
   "codemirror_mode": {
    "name": "ipython",
    "version": 3
   },
   "file_extension": ".py",
   "mimetype": "text/x-python",
   "name": "python",
   "nbconvert_exporter": "python",
   "pygments_lexer": "ipython3",
   "version": "3.7.0"
  }
 },
 "nbformat": 4,
 "nbformat_minor": 1
}
